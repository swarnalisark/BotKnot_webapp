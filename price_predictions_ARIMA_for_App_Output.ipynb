{
 "cells": [
  {
   "cell_type": "code",
   "execution_count": 8,
   "metadata": {},
   "outputs": [
    {
     "name": "stderr",
     "output_type": "stream",
     "text": [
      "C:\\Users\\M MEHEDI HASSAN\\AppData\\Local\\Temp\\ipykernel_21792\\3315916751.py:78: SettingWithCopyWarning: \n",
      "A value is trying to be set on a copy of a slice from a DataFrame.\n",
      "Try using .loc[row_indexer,col_indexer] = value instead\n",
      "\n",
      "See the caveats in the documentation: https://pandas.pydata.org/pandas-docs/stable/user_guide/indexing.html#returning-a-view-versus-a-copy\n",
      "  item_data['Date'] = pd.to_datetime(item_data['Date'])  # Ensure 'Date' is datetime\n"
     ]
    },
    {
     "name": "stdout",
     "output_type": "stream",
     "text": [
      "Item's information added to Datasets/Output/Price_Prediction/Item_lists.csv\n",
      "Plot saved to Datasets/Output/Price_Prediction\\Plots\\101.png\n",
      "Item's information added to Datasets/Output/Price_Prediction/Item_lists.csv\n"
     ]
    },
    {
     "name": "stderr",
     "output_type": "stream",
     "text": [
      "C:\\Users\\M MEHEDI HASSAN\\AppData\\Local\\Temp\\ipykernel_21792\\3315916751.py:78: SettingWithCopyWarning: \n",
      "A value is trying to be set on a copy of a slice from a DataFrame.\n",
      "Try using .loc[row_indexer,col_indexer] = value instead\n",
      "\n",
      "See the caveats in the documentation: https://pandas.pydata.org/pandas-docs/stable/user_guide/indexing.html#returning-a-view-versus-a-copy\n",
      "  item_data['Date'] = pd.to_datetime(item_data['Date'])  # Ensure 'Date' is datetime\n"
     ]
    },
    {
     "name": "stdout",
     "output_type": "stream",
     "text": [
      "Plot saved to Datasets/Output/Price_Prediction\\Plots\\201.png\n",
      "Item's information added to Datasets/Output/Price_Prediction/Item_lists.csv\n"
     ]
    },
    {
     "name": "stderr",
     "output_type": "stream",
     "text": [
      "C:\\Users\\M MEHEDI HASSAN\\AppData\\Local\\Temp\\ipykernel_21792\\3315916751.py:78: SettingWithCopyWarning: \n",
      "A value is trying to be set on a copy of a slice from a DataFrame.\n",
      "Try using .loc[row_indexer,col_indexer] = value instead\n",
      "\n",
      "See the caveats in the documentation: https://pandas.pydata.org/pandas-docs/stable/user_guide/indexing.html#returning-a-view-versus-a-copy\n",
      "  item_data['Date'] = pd.to_datetime(item_data['Date'])  # Ensure 'Date' is datetime\n"
     ]
    },
    {
     "name": "stdout",
     "output_type": "stream",
     "text": [
      "Plot saved to Datasets/Output/Price_Prediction\\Plots\\301.png\n",
      "Item's information added to Datasets/Output/Price_Prediction/Item_lists.csv\n"
     ]
    },
    {
     "name": "stderr",
     "output_type": "stream",
     "text": [
      "C:\\Users\\M MEHEDI HASSAN\\AppData\\Local\\Temp\\ipykernel_21792\\3315916751.py:78: SettingWithCopyWarning: \n",
      "A value is trying to be set on a copy of a slice from a DataFrame.\n",
      "Try using .loc[row_indexer,col_indexer] = value instead\n",
      "\n",
      "See the caveats in the documentation: https://pandas.pydata.org/pandas-docs/stable/user_guide/indexing.html#returning-a-view-versus-a-copy\n",
      "  item_data['Date'] = pd.to_datetime(item_data['Date'])  # Ensure 'Date' is datetime\n"
     ]
    },
    {
     "name": "stdout",
     "output_type": "stream",
     "text": [
      "Plot saved to Datasets/Output/Price_Prediction\\Plots\\401.png\n",
      "Item's information added to Datasets/Output/Price_Prediction/Item_lists.csv\n"
     ]
    },
    {
     "name": "stderr",
     "output_type": "stream",
     "text": [
      "C:\\Users\\M MEHEDI HASSAN\\AppData\\Local\\Temp\\ipykernel_21792\\3315916751.py:78: SettingWithCopyWarning: \n",
      "A value is trying to be set on a copy of a slice from a DataFrame.\n",
      "Try using .loc[row_indexer,col_indexer] = value instead\n",
      "\n",
      "See the caveats in the documentation: https://pandas.pydata.org/pandas-docs/stable/user_guide/indexing.html#returning-a-view-versus-a-copy\n",
      "  item_data['Date'] = pd.to_datetime(item_data['Date'])  # Ensure 'Date' is datetime\n"
     ]
    },
    {
     "name": "stdout",
     "output_type": "stream",
     "text": [
      "Plot saved to Datasets/Output/Price_Prediction\\Plots\\501.png\n",
      "Item's information added to Datasets/Output/Price_Prediction/Item_lists.csv\n"
     ]
    },
    {
     "name": "stderr",
     "output_type": "stream",
     "text": [
      "C:\\Users\\M MEHEDI HASSAN\\AppData\\Local\\Temp\\ipykernel_21792\\3315916751.py:78: SettingWithCopyWarning: \n",
      "A value is trying to be set on a copy of a slice from a DataFrame.\n",
      "Try using .loc[row_indexer,col_indexer] = value instead\n",
      "\n",
      "See the caveats in the documentation: https://pandas.pydata.org/pandas-docs/stable/user_guide/indexing.html#returning-a-view-versus-a-copy\n",
      "  item_data['Date'] = pd.to_datetime(item_data['Date'])  # Ensure 'Date' is datetime\n"
     ]
    },
    {
     "name": "stdout",
     "output_type": "stream",
     "text": [
      "Plot saved to Datasets/Output/Price_Prediction\\Plots\\601.png\n",
      "Item's information added to Datasets/Output/Price_Prediction/Item_lists.csv\n"
     ]
    },
    {
     "name": "stderr",
     "output_type": "stream",
     "text": [
      "C:\\Users\\M MEHEDI HASSAN\\AppData\\Local\\Temp\\ipykernel_21792\\3315916751.py:78: SettingWithCopyWarning: \n",
      "A value is trying to be set on a copy of a slice from a DataFrame.\n",
      "Try using .loc[row_indexer,col_indexer] = value instead\n",
      "\n",
      "See the caveats in the documentation: https://pandas.pydata.org/pandas-docs/stable/user_guide/indexing.html#returning-a-view-versus-a-copy\n",
      "  item_data['Date'] = pd.to_datetime(item_data['Date'])  # Ensure 'Date' is datetime\n"
     ]
    },
    {
     "name": "stdout",
     "output_type": "stream",
     "text": [
      "Plot saved to Datasets/Output/Price_Prediction\\Plots\\701.png\n",
      "Item's information added to Datasets/Output/Price_Prediction/Item_lists.csv\n"
     ]
    },
    {
     "name": "stderr",
     "output_type": "stream",
     "text": [
      "C:\\Users\\M MEHEDI HASSAN\\AppData\\Local\\Temp\\ipykernel_21792\\3315916751.py:78: SettingWithCopyWarning: \n",
      "A value is trying to be set on a copy of a slice from a DataFrame.\n",
      "Try using .loc[row_indexer,col_indexer] = value instead\n",
      "\n",
      "See the caveats in the documentation: https://pandas.pydata.org/pandas-docs/stable/user_guide/indexing.html#returning-a-view-versus-a-copy\n",
      "  item_data['Date'] = pd.to_datetime(item_data['Date'])  # Ensure 'Date' is datetime\n"
     ]
    },
    {
     "name": "stdout",
     "output_type": "stream",
     "text": [
      "Plot saved to Datasets/Output/Price_Prediction\\Plots\\801.png\n",
      "Item's information added to Datasets/Output/Price_Prediction/Item_lists.csv\n"
     ]
    },
    {
     "name": "stderr",
     "output_type": "stream",
     "text": [
      "C:\\Users\\M MEHEDI HASSAN\\AppData\\Local\\Temp\\ipykernel_21792\\3315916751.py:78: SettingWithCopyWarning: \n",
      "A value is trying to be set on a copy of a slice from a DataFrame.\n",
      "Try using .loc[row_indexer,col_indexer] = value instead\n",
      "\n",
      "See the caveats in the documentation: https://pandas.pydata.org/pandas-docs/stable/user_guide/indexing.html#returning-a-view-versus-a-copy\n",
      "  item_data['Date'] = pd.to_datetime(item_data['Date'])  # Ensure 'Date' is datetime\n"
     ]
    },
    {
     "name": "stdout",
     "output_type": "stream",
     "text": [
      "Plot saved to Datasets/Output/Price_Prediction\\Plots\\901.png\n",
      "Item's information added to Datasets/Output/Price_Prediction/Item_lists.csv\n",
      "Plot saved to Datasets/Output/Price_Prediction\\Plots\\1001.png\n"
     ]
    },
    {
     "name": "stderr",
     "output_type": "stream",
     "text": [
      "C:\\Users\\M MEHEDI HASSAN\\AppData\\Local\\Temp\\ipykernel_21792\\3315916751.py:78: SettingWithCopyWarning: \n",
      "A value is trying to be set on a copy of a slice from a DataFrame.\n",
      "Try using .loc[row_indexer,col_indexer] = value instead\n",
      "\n",
      "See the caveats in the documentation: https://pandas.pydata.org/pandas-docs/stable/user_guide/indexing.html#returning-a-view-versus-a-copy\n",
      "  item_data['Date'] = pd.to_datetime(item_data['Date'])  # Ensure 'Date' is datetime\n",
      "C:\\Users\\M MEHEDI HASSAN\\AppData\\Local\\Temp\\ipykernel_21792\\3315916751.py:78: SettingWithCopyWarning: \n",
      "A value is trying to be set on a copy of a slice from a DataFrame.\n",
      "Try using .loc[row_indexer,col_indexer] = value instead\n",
      "\n",
      "See the caveats in the documentation: https://pandas.pydata.org/pandas-docs/stable/user_guide/indexing.html#returning-a-view-versus-a-copy\n",
      "  item_data['Date'] = pd.to_datetime(item_data['Date'])  # Ensure 'Date' is datetime\n"
     ]
    },
    {
     "name": "stdout",
     "output_type": "stream",
     "text": [
      "Item's information added to Datasets/Output/Price_Prediction/Item_lists.csv\n",
      "Plot saved to Datasets/Output/Price_Prediction\\Plots\\1101.png\n"
     ]
    },
    {
     "name": "stderr",
     "output_type": "stream",
     "text": [
      "C:\\Users\\M MEHEDI HASSAN\\AppData\\Local\\Temp\\ipykernel_21792\\3315916751.py:78: SettingWithCopyWarning: \n",
      "A value is trying to be set on a copy of a slice from a DataFrame.\n",
      "Try using .loc[row_indexer,col_indexer] = value instead\n",
      "\n",
      "See the caveats in the documentation: https://pandas.pydata.org/pandas-docs/stable/user_guide/indexing.html#returning-a-view-versus-a-copy\n",
      "  item_data['Date'] = pd.to_datetime(item_data['Date'])  # Ensure 'Date' is datetime\n",
      "C:\\Users\\M MEHEDI HASSAN\\AppData\\Local\\Temp\\ipykernel_21792\\3315916751.py:78: SettingWithCopyWarning: \n",
      "A value is trying to be set on a copy of a slice from a DataFrame.\n",
      "Try using .loc[row_indexer,col_indexer] = value instead\n",
      "\n",
      "See the caveats in the documentation: https://pandas.pydata.org/pandas-docs/stable/user_guide/indexing.html#returning-a-view-versus-a-copy\n",
      "  item_data['Date'] = pd.to_datetime(item_data['Date'])  # Ensure 'Date' is datetime\n"
     ]
    },
    {
     "name": "stdout",
     "output_type": "stream",
     "text": [
      "Item's information added to Datasets/Output/Price_Prediction/Item_lists.csv\n",
      "Plot saved to Datasets/Output/Price_Prediction\\Plots\\1201.png\n",
      "Item's information added to Datasets/Output/Price_Prediction/Item_lists.csv\n",
      "Plot saved to Datasets/Output/Price_Prediction\\Plots\\1301.png\n",
      "Item's information added to Datasets/Output/Price_Prediction/Item_lists.csv\n",
      "Plot saved to Datasets/Output/Price_Prediction\\Plots\\1401.png\n",
      "Item's information added to Datasets/Output/Price_Prediction/Item_lists.csv\n"
     ]
    },
    {
     "name": "stderr",
     "output_type": "stream",
     "text": [
      "C:\\Users\\M MEHEDI HASSAN\\AppData\\Local\\Temp\\ipykernel_21792\\3315916751.py:78: SettingWithCopyWarning: \n",
      "A value is trying to be set on a copy of a slice from a DataFrame.\n",
      "Try using .loc[row_indexer,col_indexer] = value instead\n",
      "\n",
      "See the caveats in the documentation: https://pandas.pydata.org/pandas-docs/stable/user_guide/indexing.html#returning-a-view-versus-a-copy\n",
      "  item_data['Date'] = pd.to_datetime(item_data['Date'])  # Ensure 'Date' is datetime\n",
      "C:\\Users\\M MEHEDI HASSAN\\AppData\\Local\\Temp\\ipykernel_21792\\3315916751.py:78: SettingWithCopyWarning: \n",
      "A value is trying to be set on a copy of a slice from a DataFrame.\n",
      "Try using .loc[row_indexer,col_indexer] = value instead\n",
      "\n",
      "See the caveats in the documentation: https://pandas.pydata.org/pandas-docs/stable/user_guide/indexing.html#returning-a-view-versus-a-copy\n",
      "  item_data['Date'] = pd.to_datetime(item_data['Date'])  # Ensure 'Date' is datetime\n"
     ]
    },
    {
     "name": "stdout",
     "output_type": "stream",
     "text": [
      "Plot saved to Datasets/Output/Price_Prediction\\Plots\\1501.png\n",
      "Item's information added to Datasets/Output/Price_Prediction/Item_lists.csv\n",
      "Plot saved to Datasets/Output/Price_Prediction\\Plots\\1601.png\n",
      "Item's information added to Datasets/Output/Price_Prediction/Item_lists.csv\n"
     ]
    },
    {
     "name": "stderr",
     "output_type": "stream",
     "text": [
      "C:\\Users\\M MEHEDI HASSAN\\AppData\\Local\\Temp\\ipykernel_21792\\3315916751.py:78: SettingWithCopyWarning: \n",
      "A value is trying to be set on a copy of a slice from a DataFrame.\n",
      "Try using .loc[row_indexer,col_indexer] = value instead\n",
      "\n",
      "See the caveats in the documentation: https://pandas.pydata.org/pandas-docs/stable/user_guide/indexing.html#returning-a-view-versus-a-copy\n",
      "  item_data['Date'] = pd.to_datetime(item_data['Date'])  # Ensure 'Date' is datetime\n",
      "C:\\Users\\M MEHEDI HASSAN\\AppData\\Local\\Temp\\ipykernel_21792\\3315916751.py:78: SettingWithCopyWarning: \n",
      "A value is trying to be set on a copy of a slice from a DataFrame.\n",
      "Try using .loc[row_indexer,col_indexer] = value instead\n",
      "\n",
      "See the caveats in the documentation: https://pandas.pydata.org/pandas-docs/stable/user_guide/indexing.html#returning-a-view-versus-a-copy\n",
      "  item_data['Date'] = pd.to_datetime(item_data['Date'])  # Ensure 'Date' is datetime\n"
     ]
    },
    {
     "name": "stdout",
     "output_type": "stream",
     "text": [
      "Plot saved to Datasets/Output/Price_Prediction\\Plots\\1701.png\n",
      "Item's information added to Datasets/Output/Price_Prediction/Item_lists.csv\n",
      "Plot saved to Datasets/Output/Price_Prediction\\Plots\\1801.png\n",
      "Item's information added to Datasets/Output/Price_Prediction/Item_lists.csv\n"
     ]
    },
    {
     "name": "stderr",
     "output_type": "stream",
     "text": [
      "C:\\Users\\M MEHEDI HASSAN\\AppData\\Local\\Temp\\ipykernel_21792\\3315916751.py:78: SettingWithCopyWarning: \n",
      "A value is trying to be set on a copy of a slice from a DataFrame.\n",
      "Try using .loc[row_indexer,col_indexer] = value instead\n",
      "\n",
      "See the caveats in the documentation: https://pandas.pydata.org/pandas-docs/stable/user_guide/indexing.html#returning-a-view-versus-a-copy\n",
      "  item_data['Date'] = pd.to_datetime(item_data['Date'])  # Ensure 'Date' is datetime\n",
      "C:\\Users\\M MEHEDI HASSAN\\AppData\\Local\\Temp\\ipykernel_21792\\3315916751.py:78: SettingWithCopyWarning: \n",
      "A value is trying to be set on a copy of a slice from a DataFrame.\n",
      "Try using .loc[row_indexer,col_indexer] = value instead\n",
      "\n",
      "See the caveats in the documentation: https://pandas.pydata.org/pandas-docs/stable/user_guide/indexing.html#returning-a-view-versus-a-copy\n",
      "  item_data['Date'] = pd.to_datetime(item_data['Date'])  # Ensure 'Date' is datetime\n"
     ]
    },
    {
     "name": "stdout",
     "output_type": "stream",
     "text": [
      "Plot saved to Datasets/Output/Price_Prediction\\Plots\\1901.png\n",
      "Item's information added to Datasets/Output/Price_Prediction/Item_lists.csv\n",
      "Plot saved to Datasets/Output/Price_Prediction\\Plots\\2001.png\n",
      "No model found for item: ja! H-Milch 3,5% 1\n",
      "Item's information added to Datasets/Output/Price_Prediction/Item_lists.csv\n"
     ]
    },
    {
     "name": "stderr",
     "output_type": "stream",
     "text": [
      "C:\\Users\\M MEHEDI HASSAN\\AppData\\Local\\Temp\\ipykernel_21792\\3315916751.py:78: SettingWithCopyWarning: \n",
      "A value is trying to be set on a copy of a slice from a DataFrame.\n",
      "Try using .loc[row_indexer,col_indexer] = value instead\n",
      "\n",
      "See the caveats in the documentation: https://pandas.pydata.org/pandas-docs/stable/user_guide/indexing.html#returning-a-view-versus-a-copy\n",
      "  item_data['Date'] = pd.to_datetime(item_data['Date'])  # Ensure 'Date' is datetime\n",
      "C:\\Users\\M MEHEDI HASSAN\\AppData\\Local\\Temp\\ipykernel_21792\\3315916751.py:78: SettingWithCopyWarning: \n",
      "A value is trying to be set on a copy of a slice from a DataFrame.\n",
      "Try using .loc[row_indexer,col_indexer] = value instead\n",
      "\n",
      "See the caveats in the documentation: https://pandas.pydata.org/pandas-docs/stable/user_guide/indexing.html#returning-a-view-versus-a-copy\n",
      "  item_data['Date'] = pd.to_datetime(item_data['Date'])  # Ensure 'Date' is datetime\n"
     ]
    },
    {
     "name": "stdout",
     "output_type": "stream",
     "text": [
      "Plot saved to Datasets/Output/Price_Prediction\\Plots\\2201.png\n"
     ]
    }
   ],
   "source": [
    "import os\n",
    "import pandas as pd\n",
    "from statsmodels.tsa.arima.model import ARIMA\n",
    "import matplotlib.pyplot as plt\n",
    "from datetime import timedelta\n",
    "from scipy.ndimage import gaussian_filter1d\n",
    "import pickle\n",
    "\n",
    "# Mapping of Item Name to Item Code\n",
    "ITEM_CODE_MAPPING = {\n",
    "    \"Allgäuer Hof-Milch Butter mild gesäuert 250g\": \"101\",\n",
    "    \"Bio Aubergine 1 Stück\": \"201\",\n",
    "    \"Blumenkohl weiß 1 Stück\": \"301\",\n",
    "    \"Broccoli 500g\": \"401\",\n",
    "    \"Eisbergsalat 1 Stück\": \"501\",\n",
    "    \"Galiamelone 1 Stück\": \"601\",\n",
    "    \"Karotten 1kg\": \"701\",\n",
    "    \"Kartoffeln vorwiegend festkochend 2,5kg\": \"801\",\n",
    "    \"Mango vorgereift 1 Stück\": \"901\",\n",
    "    \"Meggle Feine Butter 250g\": \"1001\",\n",
    "    \"Orangen 2kg im Netz\": \"1101\",\n",
    "    \"REWE Beste Wahl Feinschmecker Hähnchen 1200g\": \"1201\",\n",
    "    \"REWE Bio Zucchini 500g\": \"1301\",\n",
    "    \"Rewe Beste Wahl Eier aus Freilandhaltung 10 Stück\": \"1401\",\n",
    "    \"Rispentomaten ca. 100g\": \"1501\",\n",
    "    \"Spitzkohl ca. 1kg\": \"1601\",\n",
    "    \"Tafeltrauben hell kernlos 500g\": \"1701\",\n",
    "    \"Zitronen 500g im Netz\": \"1801\",\n",
    "    \"Zwiebeln 2kg im Netz\": \"1901\",\n",
    "    \"ja! Basmati Reis 1kg\": \"2001\",\n",
    "    \"ja! H-Milch 3,5% 1\": \"2101\",\n",
    "    \"ja! Sonnenblumenöl 1l\": \"2201\"\n",
    "}\n",
    "\n",
    "# Mapping of Item Code to Item English Name\n",
    "ITEM_CODE_TO_ENGLISH_NAME = {\n",
    "    \"101\": \"Butter Mildly Soured\",\n",
    "    \"201\": \"Eggplant\",\n",
    "    \"301\": \"White Cauliflower\",\n",
    "    \"401\": \"Broccoli\",\n",
    "    \"501\": \"Iceberg Lettuce\",\n",
    "    \"601\": \"Galia Melon\",\n",
    "    \"701\": \"Carrots\",\n",
    "    \"801\": \"Potatoes\",\n",
    "    \"901\": \"Mango\",\n",
    "    \"1001\": \"Meggle Fine Butter\",\n",
    "    \"1101\": \"Oranges\",\n",
    "    \"1201\": \"Chicken\",\n",
    "    \"1301\": \"Zucchini\",\n",
    "    \"1401\": \"Eggs\",\n",
    "    \"1501\": \"Tomatoes\",\n",
    "    \"1601\": \"Cabbage\",\n",
    "    \"1701\": \"Table Grapes\",\n",
    "    \"1801\": \"Lemons\",\n",
    "    \"1901\": \"Onions\",\n",
    "    \"2001\": \"Basmati Rice\",\n",
    "    \"2101\": \"Milk 3.5%\",\n",
    "    \"2201\": \"Sunflower Oil\"\n",
    "}\n",
    "\n",
    "def predict_and_save(item_name, models, data, steps=90, output_folder=\"Datasets/Output/Price_Prediction\", csv_file=\"Datasets/Output/Price_Prediction/Item_lists.csv\"):\n",
    "    if item_name not in models:\n",
    "        print(f\"No model found for item: {item_name}\")\n",
    "        return\n",
    "\n",
    "    # Create output directories\n",
    "    if not os.path.exists(output_folder):\n",
    "        os.makedirs(output_folder)\n",
    "\n",
    "    #item_folder = os.path.join(output_folder, item_name.replace(' ', '_'))\n",
    "    item_folder = os.path.join(output_folder, 'Plots')\n",
    "    \n",
    "    if not os.path.exists(item_folder):\n",
    "        os.makedirs(item_folder)\n",
    "\n",
    "    model = models[item_name]\n",
    "    item_data = data[data['Items'] == item_name]\n",
    "    item_data['Date'] = pd.to_datetime(item_data['Date'])  # Ensure 'Date' is datetime\n",
    "    daily_prices = item_data.set_index('Date')['price']\n",
    "\n",
    "    # Forecast future values\n",
    "    forecast = model.forecast(steps=steps)\n",
    "    last_date = daily_prices.index[-1]\n",
    "    future_dates = pd.date_range(start=last_date + timedelta(days=1), periods=steps)\n",
    "\n",
    "    # Smooth historical prices\n",
    "    smoothed_prices = gaussian_filter1d(daily_prices, sigma=2)\n",
    "\n",
    "    # Smooth forecasted prices\n",
    "    smoothed_forecast = gaussian_filter1d(forecast, sigma=2)\n",
    "\n",
    "    # Combine historical and forecasted data\n",
    "    combined_index = daily_prices.index.append(future_dates)\n",
    "    combined_values = list(smoothed_prices) + list(smoothed_forecast)\n",
    "\n",
    "    # Save forecast to CSV\n",
    "    price_for_tomorrow = forecast.iloc[0]\n",
    "    price_after_7_days = forecast.iloc[7] if len(forecast) > 7 else None\n",
    "    price_after_1_month = forecast.iloc[30] if len(forecast) > 30 else None\n",
    "\n",
    "    item_code = ITEM_CODE_MAPPING.get(item_name, \"Unknown\")\n",
    "    item_english_name = ITEM_CODE_TO_ENGLISH_NAME.get(item_code, \"Unknown\")\n",
    "\n",
    "    summary_data = {\n",
    "        \"Serial_Number\": [len(pd.read_csv(csv_file)) + 1 if os.path.exists(csv_file) else 1],\n",
    "        \"Item_Code\": [item_code],\n",
    "        \"Item_Name\": [item_name],\n",
    "        \"Price_for_Tomorrow\": [price_for_tomorrow],\n",
    "        \"Price_After_7_Days\": [price_after_7_days],\n",
    "        \"Price_After_1_Month\": [price_after_1_month]\n",
    "    }\n",
    "\n",
    "    summary_df = pd.DataFrame(summary_data)\n",
    "\n",
    "    # Append to CSV if file exists, otherwise create\n",
    "    if os.path.exists(csv_file):\n",
    "        summary_df.to_csv(csv_file, mode='a', header=False, index=False)\n",
    "    else:\n",
    "        summary_df.to_csv(csv_file, index=False)\n",
    "\n",
    "    \n",
    "    print(f\"Item's information added to {csv_file}\")\n",
    "    \n",
    "\n",
    "\n",
    "    # Plot\n",
    "    plt.figure(figsize=(12, 6))\n",
    "    plt.plot(daily_prices.index, smoothed_prices, label=\"Actual Price\", linewidth=2,linestyle='-', color=\"blue\")\n",
    "    plt.plot(future_dates, smoothed_forecast, label=\"Predicted Price (Next 90 Days)\", linewidth=3,linestyle='-', color='orange')\n",
    "    plt.title(f\"Price Trend for {item_english_name}\", fontsize=16)\n",
    "    plt.ylabel(\"Price (€)\")\n",
    "    plt.legend()\n",
    "    plt.grid(True)\n",
    "    plt.tight_layout()\n",
    "\n",
    "    # Save plot\n",
    "    plot_file = os.path.join(item_folder, f\"{item_code.replace(' ', '_')}.png\")\n",
    "    plt.savefig(plot_file)\n",
    "    plt.close()\n",
    "    print(f\"Plot saved to {plot_file}\")\n",
    "\n",
    "if __name__ == \"__main__\":\n",
    "    # Replace with the actual input file path\n",
    "    grocery_data = pd.read_csv('Datasets/Price_Predictions/grocery_items_bavaria.csv')\n",
    "    grocery_data.rename(columns={'name': 'Items'}, inplace=True)\n",
    "\n",
    "    # Delete the CSV file if it exists\n",
    "    csv_file_path = \"Datasets/Output/Price_Prediction/Item_lists.csv\"\n",
    "    if os.path.exists(csv_file_path):\n",
    "        os.remove(csv_file_path)\n",
    "        print(f\"Existing file {csv_file_path} has been deleted.\")\n",
    "\n",
    "    # Load models from the folder\n",
    "    models_folder = \"Model/Price_Prediction/arima\"\n",
    "    with open(os.path.join(models_folder, \"arima_models.pkl\"), 'rb') as f:\n",
    "        loaded_models = pickle.load(f)\n",
    "\n",
    "    # Predict, save, and plot for specific items\n",
    "    items_to_predict = [\n",
    "        \"Allgäuer Hof-Milch Butter mild gesäuert 250g\",\n",
    "        \"Bio Aubergine 1 Stück\",\n",
    "        \"Blumenkohl weiß 1 Stück\",\n",
    "        \"Broccoli 500g\",\n",
    "        \"Eisbergsalat 1 Stück\",\n",
    "        \"Galiamelone 1 Stück\",\n",
    "        \"Karotten 1kg\",\n",
    "        \"Kartoffeln vorwiegend festkochend 2,5kg\",\n",
    "        \"Mango vorgereift 1 Stück\",\n",
    "        \"Meggle Feine Butter 250g\",\n",
    "        \"Orangen 2kg im Netz\",\n",
    "        \"REWE Beste Wahl Feinschmecker Hähnchen 1200g\",\n",
    "        \"REWE Bio Zucchini 500g\",\n",
    "        \"Rewe Beste Wahl Eier aus Freilandhaltung 10 Stück\",\n",
    "        \"Rispentomaten ca. 100g\",\n",
    "        \"Spitzkohl ca. 1kg\",\n",
    "        \"Tafeltrauben hell kernlos 500g\",\n",
    "        \"Zitronen 500g im Netz\",\n",
    "        \"Zwiebeln 2kg im Netz\",\n",
    "        \"ja! Basmati Reis 1kg\",\n",
    "        \"ja! H-Milch 3,5% 1\",\n",
    "        \"ja! Sonnenblumenöl 1l\"\n",
    "\n",
    "    ]\n",
    "\n",
    "    for item_name in items_to_predict:\n",
    "        predict_and_save(item_name, loaded_models, grocery_data)\n",
    "    \n",
    "\n",
    "\n",
    "\n",
    "    \n"
   ]
  }
 ],
 "metadata": {
  "kernelspec": {
   "display_name": ".venv",
   "language": "python",
   "name": "python3"
  },
  "language_info": {
   "codemirror_mode": {
    "name": "ipython",
    "version": 3
   },
   "file_extension": ".py",
   "mimetype": "text/x-python",
   "name": "python",
   "nbconvert_exporter": "python",
   "pygments_lexer": "ipython3",
   "version": "3.10.10"
  }
 },
 "nbformat": 4,
 "nbformat_minor": 2
}
